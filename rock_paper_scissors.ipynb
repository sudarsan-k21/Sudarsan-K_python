{
 "cells": [
  {
   "cell_type": "code",
   "execution_count": 5,
   "id": "64132396-4ef7-4e50-8a80-a0ea310add78",
   "metadata": {},
   "outputs": [],
   "source": [
    "import numpy as np\n",
    "import pandas as pd\n",
    "from sklearn.tree import DecisionTreeClassifier\n",
    "from sklearn.model_selection import train_test_split\n",
    "from sklearn.metrics import accuracy_score\n",
    "import random"
   ]
  },
  {
   "cell_type": "code",
   "execution_count": 8,
   "id": "5ee7f44b-41b1-4115-9b6f-180a83947fd3",
   "metadata": {},
   "outputs": [
    {
     "name": "stdout",
     "output_type": "stream",
     "text": [
      "Weelcome to rock, paper, scissors!\n"
     ]
    },
    {
     "name": "stdin",
     "output_type": "stream",
     "text": [
      "Enter a choice: (rock, paper, scissors): paper\n"
     ]
    },
    {
     "name": "stdout",
     "output_type": "stream",
     "text": [
      "you chose: paper /br computer chose: scissors\n",
      "AI win\n"
     ]
    },
    {
     "name": "stdin",
     "output_type": "stream",
     "text": [
      "play again ? (yes/no): yes\n",
      "Enter a choice: (rock, paper, scissors): rock\n"
     ]
    },
    {
     "name": "stdout",
     "output_type": "stream",
     "text": [
      "you chose: rock /br computer chose: scissors\n",
      "you win\n"
     ]
    },
    {
     "name": "stdin",
     "output_type": "stream",
     "text": [
      "play again ? (yes/no): yes\n",
      "Enter a choice: (rock, paper, scissors): scissors\n"
     ]
    },
    {
     "name": "stdout",
     "output_type": "stream",
     "text": [
      "you chose: scissors /br computer chose: scissors\n",
      "tie\n"
     ]
    },
    {
     "name": "stdin",
     "output_type": "stream",
     "text": [
      "play again ? (yes/no): yes\n",
      "Enter a choice: (rock, paper, scissors): rock\n"
     ]
    },
    {
     "name": "stdout",
     "output_type": "stream",
     "text": [
      "you chose: rock /br computer chose: rock\n",
      "tie\n"
     ]
    },
    {
     "name": "stdin",
     "output_type": "stream",
     "text": [
      "play again ? (yes/no): no\n"
     ]
    },
    {
     "name": "stdout",
     "output_type": "stream",
     "text": [
      "thanks for playing\n",
      "Total player Wins  1\n",
      "Total AI Wins 1\n"
     ]
    }
   ],
   "source": [
    "print('Weelcome to rock, paper, scissors!')\n",
    "player_win=0\n",
    "computer_win=0\n",
    "while True:\n",
    "    player=input('Enter a choice: (rock, paper, scissors):')\n",
    "    choices=['rock', 'paper', 'scissors']\n",
    "    computer=random.choice(choices)\n",
    "    print(f'you chose: {player} /br computer chose: {computer}')\n",
    "    if player==computer:\n",
    "        print('tie')\n",
    "    elif player=='rock':\n",
    "        if computer=='scissors':\n",
    "            print('you win')\n",
    "            player_win+=1\n",
    "        else:\n",
    "            print('AI win')\n",
    "            computer_win+=1\n",
    "    elif player=='paper':\n",
    "        if computer=='rock':\n",
    "            print('you win')\n",
    "            player_win+=1\n",
    "        else:\n",
    "            print('AI win')\n",
    "            computer_win+=1\n",
    "    repeat=input('play again ? (yes/no):')\n",
    "    if repeat.lower()!='yes':\n",
    "        print('thanks for playing')\n",
    "        break\n",
    "print('Total player Wins ',player_win)\n",
    "print('Total AI Wins',computer_win)"
   ]
  },
  {
   "cell_type": "code",
   "execution_count": null,
   "id": "fcf5e4ed-de1b-4bcc-8c1a-4a9c3a9f236d",
   "metadata": {},
   "outputs": [],
   "source": []
  }
 ],
 "metadata": {
  "kernelspec": {
   "display_name": "Python 3 (ipykernel)",
   "language": "python",
   "name": "python3"
  },
  "language_info": {
   "codemirror_mode": {
    "name": "ipython",
    "version": 3
   },
   "file_extension": ".py",
   "mimetype": "text/x-python",
   "name": "python",
   "nbconvert_exporter": "python",
   "pygments_lexer": "ipython3",
   "version": "3.12.3"
  }
 },
 "nbformat": 4,
 "nbformat_minor": 5
}
